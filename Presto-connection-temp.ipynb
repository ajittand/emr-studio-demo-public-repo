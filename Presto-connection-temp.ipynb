{
 "cells": [
  {
   "cell_type": "code",
   "execution_count": null,
   "metadata": {},
   "outputs": [],
   "source": [
    "# Presto distributed query engine for Big Data\n",
    "from pyhive import presto\n",
    "cursor = presto.connect(host = \"ec2-18-212-184-196.compute-1.amazonaws.com\",port = 8889,catalog=\"hive\", schema = \"default\").cursor()\n",
    "cursor.execute('SELECT * FROM default.movie_reviews limit 2')\n",
    "results = cursor.fetchall()\n",
    "print(results)\n",
    "#this is my new change"
   ]
  }
 ],
 "metadata": {
  "kernelspec": {
   "display_name": "Python 3",
   "language": "python",
   "name": "python3"
  },
  "language_info": {
   "codemirror_mode": {
    "name": "ipython",
    "version": 3
   },
   "file_extension": ".py",
   "mimetype": "text/x-python",
   "name": "python",
   "nbconvert_exporter": "python",
   "pygments_lexer": "ipython3",
   "version": "3.7.4"
  }
 },
 "nbformat": 4,
 "nbformat_minor": 4
}
